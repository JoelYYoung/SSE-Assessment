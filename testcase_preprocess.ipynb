{
 "cells": [
  {
   "cell_type": "code",
   "execution_count": 1,
   "metadata": {
    "collapsed": true,
    "pycharm": {
     "name": "#%%\n"
    }
   },
   "outputs": [],
   "source": [
    "import os\n",
    "import pickle\n",
    "import shutil"
   ]
  },
  {
   "cell_type": "code",
   "execution_count": 2,
   "outputs": [],
   "source": [
    "root_path = r\"D:\\Virtual Desktop\\2017-11-02-juliet-c-cplusplus-v1-3\""
   ],
   "metadata": {
    "collapsed": false,
    "pycharm": {
     "name": "#%%\n"
    }
   }
  },
  {
   "cell_type": "code",
   "execution_count": 3,
   "outputs": [],
   "source": [
    "reload = False"
   ],
   "metadata": {
    "collapsed": false,
    "pycharm": {
     "name": "#%%\n"
    }
   }
  },
  {
   "cell_type": "code",
   "execution_count": 4,
   "outputs": [],
   "source": [
    "# Note: this should run for just once!\n",
    "if reload:\n",
    "    g = os.listdir(root_path)"
   ],
   "metadata": {
    "collapsed": false,
    "pycharm": {
     "name": "#%%\n"
    }
   }
  },
  {
   "cell_type": "code",
   "execution_count": 5,
   "outputs": [
    {
     "name": "stdout",
     "output_type": "stream",
     "text": [
      "1000 finished\n",
      "2000 finished\n",
      "3000 finished\n",
      "4000 finished\n",
      "5000 finished\n",
      "6000 finished\n",
      "7000 finished\n",
      "8000 finished\n",
      "9000 finished\n",
      "10000 finished\n",
      "11000 finished\n",
      "12000 finished\n",
      "13000 finished\n",
      "14000 finished\n",
      "15000 finished\n",
      "16000 finished\n",
      "17000 finished\n",
      "18000 finished\n",
      "19000 finished\n",
      "20000 finished\n",
      "21000 finished\n",
      "22000 finished\n",
      "23000 finished\n",
      "24000 finished\n",
      "25000 finished\n",
      "26000 finished\n",
      "27000 finished\n",
      "28000 finished\n",
      "29000 finished\n",
      "30000 finished\n",
      "31000 finished\n",
      "32000 finished\n",
      "33000 finished\n",
      "34000 finished\n",
      "35000 finished\n",
      "36000 finished\n",
      "37000 finished\n",
      "38000 finished\n",
      "39000 finished\n",
      "40000 finished\n",
      "41000 finished\n",
      "42000 finished\n",
      "43000 finished\n",
      "44000 finished\n",
      "45000 finished\n",
      "46000 finished\n",
      "47000 finished\n",
      "48000 finished\n",
      "49000 finished\n",
      "50000 finished\n",
      "51000 finished\n",
      "52000 finished\n",
      "53000 finished\n",
      "54000 finished\n",
      "55000 finished\n",
      "56000 finished\n",
      "57000 finished\n",
      "58000 finished\n",
      "59000 finished\n",
      "60000 finished\n",
      "61000 finished\n",
      "62000 finished\n",
      "63000 finished\n",
      "64000 finished\n"
     ]
    }
   ],
   "source": [
    "# extract CWE121, CWE122 and CWE126 testcases\n",
    "# Note: this should run for just once!\n",
    "if reload:\n",
    "    CWE_121_list = []\n",
    "    CWE_122_list = []\n",
    "    CWE_126_list = []\n",
    "    counter = 0\n",
    "    for d in g:\n",
    "        visit_path = root_path + \"\\\\\" + d + \"\\\\src\\\\testcases\"\n",
    "        case_name = os.listdir(visit_path)[0]\n",
    "        if 'CWE121' in case_name:\n",
    "            CWE_121_list.append(d)\n",
    "        elif 'CWE122' in case_name:\n",
    "            CWE_122_list.append(d)\n",
    "        elif 'CWE126' in case_name:\n",
    "            CWE_126_list.append(d)\n",
    "        counter += 1\n",
    "        if counter % 1000 == 0:\n",
    "            print(\"{} finished\".format(counter))"
   ],
   "metadata": {
    "collapsed": false,
    "pycharm": {
     "name": "#%%\n"
    }
   }
  },
  {
   "cell_type": "code",
   "execution_count": 6,
   "outputs": [],
   "source": [
    "# store the result for later use\n",
    "# Note: this should run for just once!\n",
    "if reload:\n",
    "    with open(\"CWE121.pickle\",\"wb\") as f:\n",
    "        pickle.dump(CWE_121_list, f)\n",
    "\n",
    "    with open(\"CWE122.pickle\",\"wb\") as f:\n",
    "        pickle.dump(CWE_122_list, f)\n",
    "\n",
    "    with open(\"CWE126.pickle\",\"wb\") as f:\n",
    "        pickle.dump(CWE_126_list, f)"
   ],
   "metadata": {
    "collapsed": false,
    "pycharm": {
     "name": "#%%\n"
    }
   }
  },
  {
   "cell_type": "code",
   "execution_count": 20,
   "outputs": [],
   "source": [
    "# use pickle to load CWE_121_list and CWE_122_list\n",
    "if not reload:\n",
    "    with open(\"CWE121.pickle\",\"rb\") as f:\n",
    "        CWE_121_list = pickle.load(f)\n",
    "\n",
    "    with open(\"CWE122.pickle\",\"rb\") as f:\n",
    "        CWE_122_list = pickle.load(f)\n",
    "\n",
    "    with open(\"CWE126.pickle\",\"rb\") as f:\n",
    "        CWE_126_list = pickle.load(f)"
   ],
   "metadata": {
    "collapsed": false,
    "pycharm": {
     "name": "#%%\n"
    }
   }
  },
  {
   "cell_type": "code",
   "execution_count": 11,
   "outputs": [],
   "source": [
    "# move files and its sarif file to another\n",
    "# move 50 at first\n",
    "valid_num = 0\n",
    "max_num = 100\n",
    "for t in CWE_121_list[:]:\n",
    "    visit_path = root_path + \"\\\\\" + t + \"\\\\src\\\\testcases\"\n",
    "    case_dir_name = os.listdir(visit_path)[0]\n",
    "    case_dir_path = visit_path+\"\\\\\"+case_dir_name\n",
    "    mid_name = os.listdir(case_dir_path)[0]\n",
    "    mid_path = case_dir_path + \"\\\\\" + mid_name\n",
    "    case_name = os.listdir(mid_path)[0]\n",
    "    case_path = mid_path + \"\\\\\" + case_name\n",
    "    sarif_path = root_path + \"\\\\\" + t + \"\\\\manifest.sarif\"\n",
    "    if '.c' == case_name[-2:]:\n",
    "        try:\n",
    "            valid_num += 1\n",
    "            shutil.copy(case_path, \"juliet_testcases/src/\"+case_name[:-3]+\".c\")\n",
    "            shutil.copy(sarif_path, \"juliet_testcases/metadata/\"+case_name[:-3]+\".sarif\")\n",
    "        except:\n",
    "            print(\"error\")\n",
    "        if valid_num > max_num:\n",
    "            break"
   ],
   "metadata": {
    "collapsed": false,
    "pycharm": {
     "name": "#%%\n"
    }
   }
  }
 ],
 "metadata": {
  "kernelspec": {
   "display_name": "Python 3",
   "language": "python",
   "name": "python3"
  },
  "language_info": {
   "codemirror_mode": {
    "name": "ipython",
    "version": 2
   },
   "file_extension": ".py",
   "mimetype": "text/x-python",
   "name": "python",
   "nbconvert_exporter": "python",
   "pygments_lexer": "ipython2",
   "version": "2.7.6"
  }
 },
 "nbformat": 4,
 "nbformat_minor": 0
}