{
 "cells": [
  {
   "cell_type": "code",
   "execution_count": 18,
   "metadata": {
    "collapsed": true,
    "pycharm": {
     "name": "#%%\n"
    }
   },
   "outputs": [],
   "source": [
    "import os\n",
    "import pickle\n",
    "import shutil"
   ]
  },
  {
   "cell_type": "code",
   "execution_count": 19,
   "outputs": [],
   "source": [
    "root_path = r\"D:\\Virtual Desktop\\2017-11-02-juliet-c-cplusplus-v1-3\""
   ],
   "metadata": {
    "collapsed": false,
    "pycharm": {
     "name": "#%%\n"
    }
   }
  },
  {
   "cell_type": "code",
   "execution_count": 20,
   "outputs": [],
   "source": [
    "reload = False"
   ],
   "metadata": {
    "collapsed": false,
    "pycharm": {
     "name": "#%%\n"
    }
   }
  },
  {
   "cell_type": "code",
   "execution_count": 21,
   "outputs": [],
   "source": [
    "# Note: this should run for just once!\n",
    "if reload:\n",
    "    g = os.listdir(root_path)"
   ],
   "metadata": {
    "collapsed": false,
    "pycharm": {
     "name": "#%%\n"
    }
   }
  },
  {
   "cell_type": "code",
   "execution_count": 22,
   "outputs": [],
   "source": [
    "# extract CWE121, CWE122 and CWE126 testcases\n",
    "# Note: this should run for just once!\n",
    "if reload:\n",
    "    CWE_121_list = []\n",
    "    CWE_122_list = []\n",
    "    CWE_126_list = []\n",
    "    counter = 0\n",
    "    for d in g:\n",
    "        visit_path = root_path + \"\\\\\" + d + \"\\\\src\\\\testcases\"\n",
    "        case_name = os.listdir(visit_path)[0]\n",
    "        if 'CWE121' in case_name:\n",
    "            CWE_121_list.append(d)\n",
    "        elif 'CWE122' in case_name:\n",
    "            CWE_122_list.append(d)\n",
    "        elif 'CWE126' in case_name:\n",
    "            CWE_126_list.append(d)\n",
    "        counter += 1\n",
    "        if counter % 1000 == 0:\n",
    "            print(\"{} finished\".format(counter))"
   ],
   "metadata": {
    "collapsed": false,
    "pycharm": {
     "name": "#%%\n"
    }
   }
  },
  {
   "cell_type": "code",
   "execution_count": 23,
   "outputs": [],
   "source": [
    "# store the result for later use\n",
    "# Note: this should run for just once!\n",
    "if reload:\n",
    "    with open(\"CWE121.pickle\",\"wb\") as f:\n",
    "        pickle.dump(CWE_121_list, f)\n",
    "\n",
    "    with open(\"CWE122.pickle\",\"wb\") as f:\n",
    "        pickle.dump(CWE_122_list, f)\n",
    "\n",
    "    with open(\"CWE126.pickle\",\"wb\") as f:\n",
    "        pickle.dump(CWE_126_list, f)"
   ],
   "metadata": {
    "collapsed": false,
    "pycharm": {
     "name": "#%%\n"
    }
   }
  },
  {
   "cell_type": "code",
   "execution_count": 24,
   "outputs": [],
   "source": [
    "# use pickle to load CWE_121_list and CWE_122_list\n",
    "if not reload:\n",
    "    with open(\"CWE121.pickle\",\"rb\") as f:\n",
    "        CWE_121_list = pickle.load(f)\n",
    "\n",
    "    with open(\"CWE122.pickle\",\"rb\") as f:\n",
    "        CWE_122_list = pickle.load(f)\n",
    "\n",
    "    with open(\"CWE126.pickle\",\"rb\") as f:\n",
    "        CWE_126_list = pickle.load(f)"
   ],
   "metadata": {
    "collapsed": false,
    "pycharm": {
     "name": "#%%\n"
    }
   }
  },
  {
   "cell_type": "code",
   "execution_count": 25,
   "outputs": [],
   "source": [
    "# move files and its sarif file to another\n",
    "# move 50 at first\n",
    "valid_num = 0\n",
    "max_num = 100\n",
    "for t in CWE_126_list[:]:\n",
    "    visit_path = root_path + \"\\\\\" + t + \"\\\\src\\\\testcases\"\n",
    "    case_dir_name = os.listdir(visit_path)[0]\n",
    "    case_dir_path = visit_path+\"\\\\\"+case_dir_name\n",
    "    mid_name = os.listdir(case_dir_path)[0]\n",
    "    mid_path = case_dir_path + \"\\\\\" + mid_name\n",
    "    case_name = os.listdir(mid_path)[0]\n",
    "    case_path = mid_path + \"\\\\\" + case_name\n",
    "    sarif_path = root_path + \"\\\\\" + t + \"\\\\manifest.sarif\"\n",
    "    if '.c' == case_name[-2:]:\n",
    "        try:\n",
    "            valid_num += 1\n",
    "            shutil.copy(case_path, \"juliet_testcases/src/\"+case_name[:-3]+\".c\")\n",
    "            shutil.copy(sarif_path, \"juliet_testcases/metadata/\"+case_name[:-3]+\".sarif\")\n",
    "        except:\n",
    "            print(\"error\")\n",
    "        if valid_num > max_num:\n",
    "            break"
   ],
   "metadata": {
    "collapsed": false,
    "pycharm": {
     "name": "#%%\n"
    }
   }
  }
 ],
 "metadata": {
  "kernelspec": {
   "display_name": "Python 3",
   "language": "python",
   "name": "python3"
  },
  "language_info": {
   "codemirror_mode": {
    "name": "ipython",
    "version": 2
   },
   "file_extension": ".py",
   "mimetype": "text/x-python",
   "name": "python",
   "nbconvert_exporter": "python",
   "pygments_lexer": "ipython2",
   "version": "2.7.6"
  }
 },
 "nbformat": 4,
 "nbformat_minor": 0
}