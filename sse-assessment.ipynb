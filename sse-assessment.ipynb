{
 "cells": [
  {
   "cell_type": "markdown",
   "metadata": {
    "pycharm": {
     "name": "#%% md\n"
    }
   },
   "source": [
    "# SSE Report\n",
    "***Note*** This script is for SSE's bug report. Input the `.db` file of SSE and then digest the `.db` file by some filter options into a more readable text form."
   ]
  },
  {
   "cell_type": "code",
   "execution_count": 1,
   "metadata": {
    "pycharm": {
     "name": "#%%\n"
    }
   },
   "outputs": [],
   "source": [
    "import sqlite3\n",
    "import re as re"
   ]
  },
  {
   "cell_type": "code",
   "execution_count": 2,
   "metadata": {
    "pycharm": {
     "name": "#%%\n"
    }
   },
   "outputs": [],
   "source": [
    "# open the db file\n",
    "def open_db_file(db_filepath):\n",
    "    db = sqlite3.connect(db_filepath)\n",
    "    return db"
   ]
  },
  {
   "cell_type": "code",
   "execution_count": 3,
   "metadata": {
    "pycharm": {
     "name": "#%%\n"
    }
   },
   "outputs": [],
   "source": [
    "# fetch all the cl and ln\n",
    "def get_location(db):\n",
    "    cur = db.cursor()\n",
    "    res = cur.execute(\"SELECT location, status FROM checks\")\n",
    "    res_all = res.fetchall()\n",
    "    return res_all"
   ]
  },
  {
   "cell_type": "code",
   "execution_count": 4,
   "metadata": {
    "pycharm": {
     "name": "#%%\n"
    }
   },
   "outputs": [],
   "source": [
    "def get_ln_cl_list_sse(loc):\n",
    "    loc_list = []\n",
    "    for check_loc in loc:\n",
    "        loc_str = check_loc[0]\n",
    "        search_res = re.search(\"ln: (\\d*)[ ]*cl: (\\d*)\", loc_str)\n",
    "        if search_res != None:\n",
    "            loc_list.append((int(search_res[1]), int(search_res[2]), check_loc[1]))\n",
    "        else:\n",
    "            loc_list.append((-1, -1, 0))\n",
    "    return loc_list"
   ]
  },
  {
   "cell_type": "code",
   "execution_count": 11,
   "outputs": [],
   "source": [
    "def get_ln_cl_list_ikos(db):\n",
    "    cur = db.cursor()\n",
    "    res = cur.execute(\"SELECT s.line, s.column, c.status FROM checks as c INNER JOIN statements as s WHERE s.id = c.statement_id AND c.status IN(0, 1, 2)\")\n",
    "    res_all = res.fetchall()\n",
    "    return res_all"
   ],
   "metadata": {
    "collapsed": false,
    "pycharm": {
     "name": "#%%\n"
    }
   }
  },
  {
   "cell_type": "code",
   "execution_count": 6,
   "metadata": {
    "pycharm": {
     "name": "#%%\n"
    }
   },
   "outputs": [],
   "source": [
    "db_sse = open_db_file(\"output.db\")\n",
    "db_ikos = open_db_file(\"output_ikos.db\")"
   ]
  },
  {
   "cell_type": "code",
   "execution_count": 7,
   "metadata": {
    "pycharm": {
     "name": "#%%\n"
    }
   },
   "outputs": [],
   "source": [
    "loc = get_location(db_sse)"
   ]
  },
  {
   "cell_type": "code",
   "execution_count": 8,
   "metadata": {
    "pycharm": {
     "name": "#%%\n"
    }
   },
   "outputs": [
    {
     "data": {
      "text/plain": "[(-1, -1, 0), (3, 5, -2)]"
     },
     "execution_count": 8,
     "metadata": {},
     "output_type": "execute_result"
    }
   ],
   "source": [
    "get_ln_cl_list_sse(loc)"
   ]
  },
  {
   "cell_type": "code",
   "execution_count": 12,
   "outputs": [],
   "source": [
    "ikos_len = get_ln_cl_list_ikos(db_ikos)"
   ],
   "metadata": {
    "collapsed": false,
    "pycharm": {
     "name": "#%%\n"
    }
   }
  },
  {
   "cell_type": "code",
   "execution_count": 13,
   "outputs": [
    {
     "data": {
      "text/plain": "[(12, 19, 0),\n (12, 14, 0),\n (12, 14, 0),\n (12, 14, 0),\n (12, 14, 0),\n (2, 5, 0),\n (2, 12, 0),\n (2, 12, 0),\n (2, 12, 0),\n (3, 12, 0),\n (3, 12, 0),\n (3, 12, 0),\n (3, 12, 0),\n (3, 5, 0),\n (13, 5, 0)]"
     },
     "execution_count": 13,
     "metadata": {},
     "output_type": "execute_result"
    }
   ],
   "source": [
    "ikos_len"
   ],
   "metadata": {
    "collapsed": false,
    "pycharm": {
     "name": "#%%\n"
    }
   }
  },
  {
   "cell_type": "code",
   "execution_count": 34,
   "outputs": [],
   "source": [
    "def merge_as_highest_level(res_list):\n",
    "    loc_status_map = {}\n",
    "    for res in res_list:\n",
    "        loc = (res[0], res[1])\n",
    "        if loc in loc_status_map:\n",
    "            loc_status_map[loc] = max(res[2], loc_status_map[loc])\n",
    "            print(\"reset\")\n",
    "        else:\n",
    "            loc_status_map[loc] = res[2]\n",
    "            print(\"init\")\n",
    "    return loc_status_map"
   ],
   "metadata": {
    "collapsed": false,
    "pycharm": {
     "name": "#%%\n"
    }
   }
  },
  {
   "cell_type": "code",
   "execution_count": 35,
   "outputs": [
    {
     "name": "stdout",
     "output_type": "stream",
     "text": [
      "init\n",
      "init\n",
      "reset\n",
      "reset\n",
      "reset\n",
      "init\n",
      "init\n",
      "reset\n",
      "reset\n",
      "init\n",
      "reset\n",
      "reset\n",
      "reset\n",
      "init\n",
      "init\n"
     ]
    }
   ],
   "source": [
    "merged = merge_level(ikos_len)"
   ],
   "metadata": {
    "collapsed": false,
    "pycharm": {
     "name": "#%%\n"
    }
   }
  },
  {
   "cell_type": "code",
   "execution_count": 36,
   "outputs": [
    {
     "data": {
      "text/plain": "{(12, 19): 0,\n (12, 14): 0,\n (2, 5): 0,\n (2, 12): 0,\n (3, 12): 0,\n (3, 5): 0,\n (13, 5): 0}"
     },
     "execution_count": 36,
     "metadata": {},
     "output_type": "execute_result"
    }
   ],
   "source": [
    "merged"
   ],
   "metadata": {
    "collapsed": false,
    "pycharm": {
     "name": "#%%\n"
    }
   }
  },
  {
   "cell_type": "code",
   "execution_count": 1,
   "outputs": [],
   "source": [
    "import json\n",
    "with open(\"juliet_testcases/metadata/CWE121_Stack_Based_Buffer_Overflow__CWE135_0.sarif\", \"r\") as f:\n",
    "    metadata = json.load(f)"
   ],
   "metadata": {
    "collapsed": false,
    "pycharm": {
     "name": "#%%\n"
    }
   }
  },
  {
   "cell_type": "code",
   "execution_count": 31,
   "outputs": [
    {
     "data": {
      "text/plain": "{'ruleId': 'CWE-121',\n 'message': {'text': 'Stack-based Buffer Overflow.'},\n 'locations': [{'physicalLocation': {'artifactLocation': {'uri': 'src/testcases/CWE121_Stack_Based_Buffer_Overflow/s01/CWE121_Stack_Based_Buffer_Overflow__CWE135_09.c',\n     'index': 0},\n    'region': {'startLine': 42}}}],\n 'taxa': [{'toolComponent': {'name': 'CWE', 'index': 0},\n   'id': '121',\n   'index': 0}]}"
     },
     "execution_count": 31,
     "metadata": {},
     "output_type": "execute_result"
    }
   ],
   "source": [
    "metadata['runs'][0]['results'][1]"
   ],
   "metadata": {
    "collapsed": false,
    "pycharm": {
     "name": "#%%\n"
    }
   }
  },
  {
   "cell_type": "markdown",
   "source": [],
   "metadata": {
    "collapsed": false,
    "pycharm": {
     "name": "#%% md\n"
    }
   }
  },
  {
   "cell_type": "markdown",
   "source": [],
   "metadata": {
    "collapsed": false,
    "pycharm": {
     "name": "#%% md\n"
    }
   }
  }
 ],
 "metadata": {
  "kernelspec": {
   "display_name": "Python 3",
   "language": "python",
   "name": "python3"
  },
  "language_info": {
   "codemirror_mode": {
    "name": "ipython",
    "version": 3
   },
   "file_extension": ".py",
   "mimetype": "text/x-python",
   "name": "python",
   "nbconvert_exporter": "python",
   "pygments_lexer": "ipython3",
   "version": "3.8.3"
  }
 },
 "nbformat": 4,
 "nbformat_minor": 1
}